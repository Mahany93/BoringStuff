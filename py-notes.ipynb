{
 "metadata": {
  "language_info": {
   "codemirror_mode": {
    "name": "ipython",
    "version": 3
   },
   "file_extension": ".py",
   "mimetype": "text/x-python",
   "name": "python",
   "nbconvert_exporter": "python",
   "pygments_lexer": "ipython3",
   "version": "3.9.0-final"
  },
  "orig_nbformat": 2,
  "kernelspec": {
   "name": "python3",
   "display_name": "Python 3.9.0 64-bit",
   "metadata": {
    "interpreter": {
     "hash": "60833cb7f238fd0062a384367e290f66486dbc6b9b526d8374a61b66911f7414"
    }
   }
  }
 },
 "nbformat": 4,
 "nbformat_minor": 2,
 "cells": [
  {
   "cell_type": "code",
   "execution_count": null,
   "metadata": {},
   "outputs": [],
   "source": [
    "# index(SubString, Start, End)\n",
    "# a = \"I Love Python\"\n",
    "# print(a.index(\"P\")) # Index Number 7\n",
    "# print(a.index(\"P\", 0, 10)) # Index Number 7 in Range 0,10\n",
    "# print(a.index(\"P\", 0, 5)) # Value Error\n",
    "\n",
    "# find(SubString, Start, End)\n",
    "# b = \"I Love Python\"\n",
    "# print(a.find(\"P\")) # Index Number 7\n",
    "# print(a.find(\"P\", 0, 10)) # Index Number 7 in Range 0,10\n",
    "# print(a.find(\"P\", 0, 5)) # -1 Instead of Value Error\n",
    "\n",
    "# rjust(Width, Fill Char) ljust()\n",
    "# c = \"Mahmoud\"\n",
    "# print(c.rjust(10, \"$\"))\n",
    "# print(c.ljust(10, \"$\"))\n",
    "\n",
    "# splitlines()\n",
    "# e = \"\"\"First Line\n",
    "# Second Line\n",
    "# Third Line\"\"\"\n",
    "# print(type(c))\n",
    "# print(c.splitlines())\n",
    "\n",
    "# f = \"First Line\\nsecond Line\\nThird Line\"\n",
    "# print(type(f))\n",
    "# print(f.splitlines())\n",
    "\n",
    "# expandtabs()\n",
    "# g = \"Hello\\tWorld\\tI\\tLove\\tPython\"\n",
    "# print(g)\n",
    "# print(g.expandtabs(5))\n",
    "\n",
    "# is\n",
    "# one = \"I Love Python And Coding\"\n",
    "# two = \" \"\n",
    "# print(one.istitle())\n",
    "# print(two.isspace())\n",
    "\n",
    "# three = \"AaaaaaaBBbbbb\"\n",
    "# four = \"AaaaaaaBBbb123\"\n",
    "# print(three.isalpha())\n",
    "# print(four.isalpha())\n",
    "# print(four.isalnum())\n",
    "\n",
    "# replace(Old Value, New Value, Count)\n",
    "# a = \"Hello One Two Three One One\"\n",
    "# print(a.replace(\"One\", \"1\"))\n",
    "\n",
    "# join(Iterable)\n",
    "myList= [\"Mahmoud\", \"Mahany\", \"Mahmoud\"]\n",
    "print(myList)\n",
    "print(type(myList))\n",
    "print(\"-\".join(myList))\n",
    "print(type(\"-\".join(myList)))\n"
   ]
  },
  {
   "cell_type": "code",
   "execution_count": 73,
   "metadata": {},
   "outputs": [
    {
     "output_type": "stream",
     "name": "stdout",
     "text": [
      "My Name is: Mahmoud\nMy Name is: Mahmoud and My Age is: 27 and My Rank is: 10\n"
     ]
    }
   ],
   "source": [
    "####################################\n",
    "#--------Strings Formatting--------#\n",
    "####################################\n",
    "\n",
    "# %s => String\n",
    "# %d => Number\n",
    "# %f => Float\n",
    "\n",
    "name= \"Mahmoud\"\n",
    "age = 27\n",
    "rank = 10\n",
    "\n",
    "# print(\"My Name is: \" + name)\n",
    "# #print(\"My Name is: \" + name + \" and My Age is: \" + age) # Type Error\n",
    "# print(\"My Name is: %s\" % \"Test\")\n",
    "# print(\"My Name is: %s and My Age is: %d and My Rank is: %.2f\" % (name, age, rank))\n",
    "\n",
    "# Truncate String\n",
    "# myLongString= \"Hello Peoples of Elzero Web School I Love You all\"\n",
    "# print(myLongString)\n",
    "# print(\"Message is: %.5s\" % myLongString)\n",
    "\n",
    "print(\"My Name is: {}\".format(name))\n",
    "print(\"My Name is: {} and My Age is: {} and My Rank is: {}\".format(name, age, rank))\n",
    "\n"
   ]
  },
  {
   "cell_type": "code",
   "execution_count": null,
   "metadata": {},
   "outputs": [],
   "source": []
  }
 ]
}