{
 "metadata": {
  "language_info": {
   "codemirror_mode": {
    "name": "ipython",
    "version": 3
   },
   "file_extension": ".py",
   "mimetype": "text/x-python",
   "name": "python",
   "nbconvert_exporter": "python",
   "pygments_lexer": "ipython3",
   "version": "3.9.5"
  },
  "orig_nbformat": 2,
  "kernelspec": {
   "name": "python395jvsc74a57bd0c3a73fb09b88738596e0aeec861aa61caa5ac1e371b546efd366cb220d2b7198",
   "display_name": "Python 3.9.5 64-bit ('PythonSoftwareFoundation.Python.3.9_qbz5n2kfra8p0')"
  },
  "metadata": {
   "interpreter": {
    "hash": "c3a73fb09b88738596e0aeec861aa61caa5ac1e371b546efd366cb220d2b7198"
   }
  }
 },
 "nbformat": 4,
 "nbformat_minor": 2,
 "cells": [
  {
   "cell_type": "code",
   "execution_count": null,
   "metadata": {},
   "outputs": [],
   "source": [
    "# name = ''\n",
    "# while name != 'your name':\n",
    "#     print('Please enter your name.')\n",
    "#     name = input()\n",
    "# print('Thank You')\n",
    "\n",
    "# while True:\n",
    "#     print('Please type your name.')\n",
    "#     name = input()\n",
    "#     if name == 'your name':\n",
    "#         break\n",
    "# print('Thank You')"
   ]
  },
  {
   "source": [
    "# for loops & range()\n",
    "# print('My name is')\n",
    "# for i in range(5):\n",
    "#     print('Jimmy Five Times (' + str(i) + ')')\n",
    "\n",
    "# print('My name is')\n",
    "# i = 0\n",
    "# while i < 5:\n",
    "#     print('Jimmy Five Times (' + str(i) + ')')\n",
    "#     i = i + 1\n",
    "\n",
    "# total = 0\n",
    "# for num in range(101):\n",
    "#     total = total + num\n",
    "# print(total)\n",
    "\n",
    "# for i in range(12, 16):\n",
    "#     print(i)\n",
    "\n",
    "# for i in range(0, 12, 2):\n",
    "#     print(i)\n",
    "\n",
    "# for i in range(5, -1, -1):\n",
    "#     print(i)\n"
   ],
   "cell_type": "code",
   "metadata": {},
   "execution_count": null,
   "outputs": []
  },
  {
   "cell_type": "code",
   "execution_count": null,
   "metadata": {},
   "outputs": [],
   "source": [
    "# import random\n",
    "# for i in range(5):\n",
    "#     print(random.randint(1,10))\n",
    "\n",
    "import sys\n",
    "while True:\n",
    "    print('Type exit to exit.')\n",
    "    response = input()\n",
    "    if response == 'exit':\n",
    "        sys.exit()\n",
    "    print('You typed ' + response + '.')"
   ]
  },
  {
   "cell_type": "code",
   "execution_count": null,
   "metadata": {},
   "outputs": [],
   "source": []
  }
 ]
}