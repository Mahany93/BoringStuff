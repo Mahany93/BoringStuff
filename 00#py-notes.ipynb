{
 "metadata": {
  "language_info": {
   "codemirror_mode": {
    "name": "ipython",
    "version": 3
   },
   "file_extension": ".py",
   "mimetype": "text/x-python",
   "name": "python",
   "nbconvert_exporter": "python",
   "pygments_lexer": "ipython3",
   "version": "3.9.5"
  },
  "orig_nbformat": 2,
  "kernelspec": {
   "name": "python395jvsc74a57bd0c3a73fb09b88738596e0aeec861aa61caa5ac1e371b546efd366cb220d2b7198",
   "display_name": "Python 3.9.5 64-bit ('PythonSoftwareFoundation.Python.3.9_qbz5n2kfra8p0')"
  },
  "metadata": {
   "interpreter": {
    "hash": "c3a73fb09b88738596e0aeec861aa61caa5ac1e371b546efd366cb220d2b7198"
   }
  }
 },
 "nbformat": 4,
 "nbformat_minor": 2,
 "cells": [
  {
   "cell_type": "code",
   "execution_count": 195,
   "metadata": {},
   "outputs": [],
   "source": [
    "# name = ''\n",
    "# while name != 'your name':\n",
    "#     print('Please enter your name.')\n",
    "#     name = input()\n",
    "# print('Thank You')\n",
    "\n",
    "# while True:\n",
    "#     print('Please type your name.')\n",
    "#     name = input()\n",
    "#     if name == 'your name':\n",
    "#         break\n",
    "# print('Thank You')"
   ]
  },
  {
   "source": [
    "# for loops & range()\n",
    "# print('My name is')\n",
    "# for i in range(5):\n",
    "#     print('Jimmy Five Times (' + str(i) + ')')\n",
    "\n",
    "# print('My name is')\n",
    "# i = 0\n",
    "# while i < 5:\n",
    "#     print('Jimmy Five Times (' + str(i) + ')')\n",
    "#     i = i + 1\n",
    "\n",
    "# total = 0\n",
    "# for num in range(101):\n",
    "#     total = total + num\n",
    "# print(total)\n",
    "\n",
    "# for i in range(12, 16):\n",
    "#     print(i)\n",
    "\n",
    "# for i in range(0, 12, 2):\n",
    "#     print(i)\n",
    "\n",
    "# for i in range(5, -1, -1):\n",
    "#     print(i)\n"
   ],
   "cell_type": "code",
   "metadata": {},
   "execution_count": 196,
   "outputs": []
  },
  {
   "cell_type": "code",
   "execution_count": 197,
   "metadata": {},
   "outputs": [],
   "source": [
    "# import random\n",
    "# for i in range(5):\n",
    "#     print(random.randint(1,10))\n",
    "\n",
    "# import sys\n",
    "# while True:\n",
    "#     print('Type exit to exit.')\n",
    "#     response = input()\n",
    "#     if response == 'exit':\n",
    "#         sys.exit()\n",
    "#     print('You typed ' + response + '.')"
   ]
  },
  {
   "cell_type": "code",
   "execution_count": 198,
   "metadata": {},
   "outputs": [],
   "source": [
    "# def spam():\n",
    "#     eggs = 99\n",
    "#     bacon()\n",
    "#     print(eggs)\n",
    "\n",
    "# def bacon():\n",
    "#     ham = 101\n",
    "#     eggs = 0\n",
    "\n",
    "# spam()\n",
    "\n",
    "# def spam():\n",
    "#     global eggs\n",
    "#     eggs = 'spam'\n",
    "\n",
    "# spam()\n",
    "# eggs = 'global'\n",
    "\n",
    "# print(eggs)"
   ]
  },
  {
   "cell_type": "code",
   "execution_count": 199,
   "metadata": {},
   "outputs": [],
   "source": [
    "# def spam(divideBy):\n",
    "#     return 42 / divideBy\n",
    "\n",
    "# print(spam(2))\n",
    "# print(spam(12))\n",
    "# print(spam(0))\n",
    "# print(spam(1))\n",
    "\n",
    "# def spam(divideBy):\n",
    "#     try:\n",
    "#         return 42 / divideBy\n",
    "#     except ZeroDivisionError:\n",
    "#         print('Error: Invalid argument.')\n",
    "\n",
    "# print(spam(2))\n",
    "# print(spam(12))\n",
    "# print(spam(0))\n",
    "# print(spam(1))\n",
    "\n",
    "# def spam(divideBy):\n",
    "#     return 42 / divideBy\n",
    "\n",
    "# try:\n",
    "#     print(spam(2))\n",
    "#     print(spam(12))\n",
    "#     print(spam(0))\n",
    "#     print(spam(1))\n",
    "# except ZeroDivisionError:\n",
    "#     print('Error: Invalid argument.')"
   ]
  },
  {
   "cell_type": "code",
   "execution_count": 200,
   "metadata": {},
   "outputs": [
    {
     "output_type": "execute_result",
     "data": {
      "text/plain": [
       "['cat', 'chicken', 'dog', 'bat', 'mouse']"
      ]
     },
     "metadata": {},
     "execution_count": 200
    }
   ],
   "source": [
    "# roomNo = []\n",
    "# while True:\n",
    "#     print('Please enter the room number ' + str(len(roomNo) + 1) + ' (Or enter nothing to stop.):')\n",
    "#     number = input()\n",
    "#     if number == '':\n",
    "#         break\n",
    "#     roomNo = roomNo + [number] # List concatenation\n",
    "# print('The room numbers are:')\n",
    "# for number in roomNo:\n",
    "#     print(' ' + number)\n",
    "\n",
    "# # Using for Loops with Lists\n",
    "# supplies = ['pens', 'staplers', 'flamethrowers', 'binders']\n",
    "# for i in range(len(supplies)):\n",
    "#     print('Index ' + str(i) + ' in supplies is ' + supplies[i])\n",
    "\n",
    "# # in and not in Operators\n",
    "# myPets = ['Zophie', 'Pooka', 'Fat-Tail']\n",
    "# print('Enter a pet name: ')\n",
    "# name = input().title()\n",
    "# if name not in myPets:\n",
    "#     print('I don\\'t have a pet called ' + name)\n",
    "# else:\n",
    "#     print(name + ' is my pet.')\n",
    "\n",
    "# Multiple Assignment Trick\n",
    "# cat = ['fat', 'gray', 'loud']\n",
    "# size = cat[0]\n",
    "# color = cat[1]\n",
    "# disposition = cat[2]\n",
    "# # You could do the below instead\n",
    "# cat = ['fat', 'gray', 'loud']\n",
    "# size, color, disposition = cat\n",
    "# print(road)\n",
    "\n",
    "# # The enumerate() Function\n",
    "# supplies = ['pens', 'staplers', 'flamethrowers', 'binders']\n",
    "# for ind, it in enumerate(supplies):\n",
    "#     print('Index ' + str(ind) + ' in supplies is: ' + str(it).title())\n",
    "\n",
    "# # random.choice() and random.shuffle()\n",
    "# import random\n",
    "# pets = ['Dog', 'Cat', 'Moose']\n",
    "# random.choice(pets)\n",
    "\n",
    "# index(), append() and insert()\n",
    "# spam = ['hello', 'hi', 'howdy', 'heyas']\n",
    "# spam.index('howdy')\n",
    "\n",
    "spam = ['cat', 'dog', 'bat']\n",
    "spam.append('mouse')\n",
    "spam.insert(1, 'chicken')\n",
    "spam.remove('cat')\n",
    "spam"
   ]
  },
  {
   "cell_type": "code",
   "execution_count": null,
   "metadata": {},
   "outputs": [],
   "source": []
  }
 ]
}