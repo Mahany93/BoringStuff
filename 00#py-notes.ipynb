{
 "metadata": {
  "language_info": {
   "codemirror_mode": {
    "name": "ipython",
    "version": 3
   },
   "file_extension": ".py",
   "mimetype": "text/x-python",
   "name": "python",
   "nbconvert_exporter": "python",
   "pygments_lexer": "ipython3",
   "version": "3.9.5"
  },
  "orig_nbformat": 2,
  "kernelspec": {
   "name": "python395jvsc74a57bd0c3a73fb09b88738596e0aeec861aa61caa5ac1e371b546efd366cb220d2b7198",
   "display_name": "Python 3.9.5 64-bit ('PythonSoftwareFoundation.Python.3.9_qbz5n2kfra8p0')"
  },
  "metadata": {
   "interpreter": {
    "hash": "c3a73fb09b88738596e0aeec861aa61caa5ac1e371b546efd366cb220d2b7198"
   }
  }
 },
 "nbformat": 4,
 "nbformat_minor": 2,
 "cells": [
  {
   "cell_type": "code",
   "execution_count": null,
   "metadata": {},
   "outputs": [],
   "source": [
    "# name = ''\n",
    "# while name != 'your name':\n",
    "#     print('Please enter your name.')\n",
    "#     name = input()\n",
    "# print('Thank You')\n",
    "\n",
    "# while True:\n",
    "#     print('Please type your name.')\n",
    "#     name = input()\n",
    "#     if name == 'your name':\n",
    "#         break\n",
    "# print('Thank You')"
   ]
  },
  {
   "source": [
    "# for loops & range()\n",
    "# print('My name is')\n",
    "# for i in range(5):\n",
    "#     print('Jimmy Five Times (' + str(i) + ')')\n",
    "\n",
    "# print('My name is')\n",
    "# i = 0\n",
    "# while i < 5:\n",
    "#     print('Jimmy Five Times (' + str(i) + ')')\n",
    "#     i = i + 1\n",
    "\n",
    "# total = 0\n",
    "# for num in range(101):\n",
    "#     total = total + num\n",
    "# print(total)\n",
    "\n",
    "# for i in range(12, 16):\n",
    "#     print(i)\n",
    "\n",
    "# for i in range(0, 12, 2):\n",
    "#     print(i)\n",
    "\n",
    "# for i in range(5, -1, -1):\n",
    "#     print(i)\n"
   ],
   "cell_type": "code",
   "metadata": {},
   "execution_count": null,
   "outputs": []
  },
  {
   "cell_type": "code",
   "execution_count": null,
   "metadata": {},
   "outputs": [],
   "source": [
    "# import random\n",
    "# for i in range(5):\n",
    "#     print(random.randint(1,10))\n",
    "\n",
    "# import sys\n",
    "# while True:\n",
    "#     print('Type exit to exit.')\n",
    "#     response = input()\n",
    "#     if response == 'exit':\n",
    "#         sys.exit()\n",
    "#     print('You typed ' + response + '.')"
   ]
  },
  {
   "cell_type": "code",
   "execution_count": null,
   "metadata": {},
   "outputs": [],
   "source": [
    "# def spam():\n",
    "#     eggs = 99\n",
    "#     bacon()\n",
    "#     print(eggs)\n",
    "\n",
    "# def bacon():\n",
    "#     ham = 101\n",
    "#     eggs = 0\n",
    "\n",
    "# spam()\n",
    "\n",
    "# def spam():\n",
    "#     global eggs\n",
    "#     eggs = 'spam'\n",
    "\n",
    "# spam()\n",
    "# eggs = 'global'\n",
    "\n",
    "# print(eggs)"
   ]
  },
  {
   "cell_type": "code",
   "execution_count": 23,
   "metadata": {},
   "outputs": [
    {
     "output_type": "stream",
     "name": "stdout",
     "text": [
      "21.0\n3.5\nError: Invalid argument.\n"
     ]
    }
   ],
   "source": [
    "# def spam(divideBy):\n",
    "#     return 42 / divideBy\n",
    "\n",
    "# print(spam(2))\n",
    "# print(spam(12))\n",
    "# print(spam(0))\n",
    "# print(spam(1))\n",
    "\n",
    "# def spam(divideBy):\n",
    "#     try:\n",
    "#         return 42 / divideBy\n",
    "#     except ZeroDivisionError:\n",
    "#         print('Error: Invalid argument.')\n",
    "\n",
    "# print(spam(2))\n",
    "# print(spam(12))\n",
    "# print(spam(0))\n",
    "# print(spam(1))\n",
    "\n",
    "def spam(divideBy):\n",
    "    return 42 / divideBy\n",
    "\n",
    "try:\n",
    "    print(spam(2))\n",
    "    print(spam(12))\n",
    "    print(spam(0))\n",
    "    print(spam(1))\n",
    "except ZeroDivisionError:\n",
    "    print('Error: Invalid argument.')"
   ]
  },
  {
   "cell_type": "code",
   "execution_count": null,
   "metadata": {},
   "outputs": [],
   "source": []
  }
 ]
}